{
 "cells": [
  {
   "cell_type": "code",
   "execution_count": null,
   "metadata": {},
   "outputs": [],
   "source": [
    "# Runs in CV3 pyenv\n",
    "\n",
    "import numpy as np\n",
    "import cv2\n",
    "import os"
   ]
  },
  {
   "cell_type": "code",
   "execution_count": null,
   "metadata": {},
   "outputs": [],
   "source": [
    "video_directory = 'raw-video'"
   ]
  },
  {
   "cell_type": "code",
   "execution_count": null,
   "metadata": {},
   "outputs": [],
   "source": [
    "video_file_name = 'Wildlife.mp4'"
   ]
  },
  {
   "cell_type": "code",
   "execution_count": null,
   "metadata": {},
   "outputs": [],
   "source": [
    "num_frames_per_cycle = 5"
   ]
  },
  {
   "cell_type": "code",
   "execution_count": null,
   "metadata": {},
   "outputs": [],
   "source": [
    "# Generator returns (success_flag, frame_number, left_frame, middle_frame, right_frame)\n",
    "def get_next_N_frames(vid_cap, num_frames = 3):\n",
    "    counter = 0\n",
    "    ret_frame_list = list([(None, None, None) for i in range(num_frames)])\n",
    "    \n",
    "    # Read the first num_frames-1 frames without yielding\n",
    "    for initial_frame_index in range(num_frames-1):\n",
    "        if vid_cap.isOpened():\n",
    "            \n",
    "            skip_this_frame = True\n",
    "            while(skip_this_frame):\n",
    "                ret, frame = vid_cap.read()                \n",
    "                frame = cv2.cvtColor(frame, cv2.COLOR_BGR2GRAY)\n",
    "                frame = cv2.resize(frame, (256, 256))\n",
    "                print(cv2.countNonZero(frame))\n",
    "\n",
    "                if cv2.countNonZero(frame) == 0:\n",
    "                    skip_this_frame = True\n",
    "                else:\n",
    "                    skip_this_frame = False\n",
    "                    \n",
    "            counter += 1\n",
    "    \n",
    "            ret_frame_list.append((ret, frame, counter))\n",
    "            ret_frame_list.pop(0)\n",
    "        else:\n",
    "            yield False, None, [None for ret_frame in ret_frame_list]\n",
    "    \n",
    "    while(vid_cap.isOpened()):\n",
    "        # Append the next frame to the list, and drop the first frame\n",
    "        ret, frame = vid_cap.read()\n",
    "        counter += 1\n",
    "\n",
    "        frame = cv2.cvtColor(frame, cv2.COLOR_BGR2GRAY)\n",
    "        frame = cv2.resize(frame, (256, 256))\n",
    "\n",
    "        ret_frame_list.append((ret, frame, counter))\n",
    "        ret_frame_list.pop(0)\n",
    "        \n",
    "        if all([ret_frame[0] for ret_frame in ret_frame_list]):\n",
    "            yield True, counter, [(ret_frame[1], ret_frame[2]) for ret_frame in ret_frame_list]\n",
    "        else:\n",
    "            yield False, counter, [None for ret_frame in ret_frame_list]\n",
    "\n",
    "    yield False, None, [None for ret_frame in ret_frame_list]"
   ]
  },
  {
   "cell_type": "code",
   "execution_count": null,
   "metadata": {},
   "outputs": [],
   "source": [
    "video_capture = cv2.VideoCapture(os.path.join(video_directory, video_file_name))\n",
    "frame_generator = get_next_N_frames(video_capture, num_frames_per_cycle)"
   ]
  },
  {
   "cell_type": "code",
   "execution_count": null,
   "metadata": {},
   "outputs": [],
   "source": []
  },
  {
   "cell_type": "code",
   "execution_count": null,
   "metadata": {},
   "outputs": [],
   "source": [
    "# Step through the video frame by frame (re-execute this cell for each new frame)\n",
    "frame_success, frame_number, frame_list = next(frame_generator)\n",
    "\n",
    "if frame_success:\n",
    "    offset_x = 0\n",
    "    offset_y = 0\n",
    "    \n",
    "    for frame_number in frame_list:\n",
    "        cv2.namedWindow('frame: ' + str(frame_number[1]))\n",
    "        cv2.imshow('frame: ' + str(frame_number[1]), frame_number[0])\n",
    "        cv2.moveWindow('frame: ' + str(frame_number[1]), offset_x, offset_y)\n",
    "        offset_x += 200\n",
    "        offset_y += 50\n",
    "    k = cv2.waitKey(500)\n",
    "    cv2.destroyAllWindows()\n",
    "else:\n",
    "    if frame_number is None:\n",
    "        print('Failed to extract any frames')"
   ]
  },
  {
   "cell_type": "code",
   "execution_count": null,
   "metadata": {},
   "outputs": [],
   "source": [
    "\n",
    "video_capture.release()\n"
   ]
  }
 ],
 "metadata": {
  "kernelspec": {
   "display_name": "Python 3",
   "language": "python",
   "name": "python3"
  },
  "language_info": {
   "codemirror_mode": {
    "name": "ipython",
    "version": 3
   },
   "file_extension": ".py",
   "mimetype": "text/x-python",
   "name": "python",
   "nbconvert_exporter": "python",
   "pygments_lexer": "ipython3",
   "version": "3.6.1"
  }
 },
 "nbformat": 4,
 "nbformat_minor": 2
}
